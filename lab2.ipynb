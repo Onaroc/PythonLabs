{
 "cells": [
  {
   "cell_type": "markdown",
   "metadata": {
    "nbgrader": {
     "grade": false,
     "locked": false,
     "solution": false
    }
   },
   "source": [
    "# Lab 2: B&eacute;zier spline aerofoils and flow simulation\n",
    "## Task 1: create a B&eacute;zier spline aerofoil\n",
    "In this task you will write a function <code>bezier_spline_aerofoil()</code> that creates a B&eacute;zier spline aerofoil and returns a $201\\times 2$ array <code>points</code> of $x,y$ points on the aerofoil from the trailing edge, along the lower surface, round the leading edge, and back along the upper surface to the trailing edge. It should also plot the aerofoil, control points and control polygon.\n",
    "\n",
    "First you need to import relevant modules:"
   ]
  },
  {
   "cell_type": "code",
   "execution_count": 3,
   "metadata": {
    "collapsed": true,
    "nbgrader": {
     "grade": false,
     "locked": false,
     "solution": false
    }
   },
   "outputs": [],
   "source": [
    "%matplotlib inline\n",
    "import numpy as np\n",
    "import matplotlib.pyplot as pl"
   ]
  },
  {
   "cell_type": "markdown",
   "metadata": {
    "nbgrader": {
     "grade": false,
     "locked": false,
     "solution": false
    }
   },
   "source": [
    "and you'll need <code>rational_bezier</code> from lab 1:"
   ]
  },
  {
   "cell_type": "code",
   "execution_count": 4,
   "metadata": {
    "collapsed": true,
    "nbgrader": {
     "grade": false,
     "locked": false,
     "solution": false
    }
   },
   "outputs": [],
   "source": [
    "from aclab1 import rational_bezier"
   ]
  },
  {
   "cell_type": "markdown",
   "metadata": {
    "nbgrader": {
     "grade": false,
     "locked": false,
     "solution": false
    }
   },
   "source": [
    "Some of the <code>bezier_spline_aerofoil()</code> function has been written for you. In the code below, beneath the '<code># YOUR CODE HERE</code>' comments, delete the '<code>raise NotImplementedError()</code>' and enter your code. Hints (e.g. how you should start your lines of code) are given as comments above the '<code># YOUR CODE HERE</code>' comments. "
   ]
  },
  {
   "cell_type": "code",
   "execution_count": 5,
   "metadata": {
    "collapsed": false,
    "deletable": false,
    "nbgrader": {
     "checksum": "bb1b0ff732b7490e52cee68c92b85440",
     "grade": false,
     "grade_id": "aerofoil_code",
     "locked": false,
     "solution": true
    }
   },
   "outputs": [],
   "source": [
    "def bezier_spline_aerofoil():\n",
    "    \n",
    "    # define the control points:\n",
    "    p = np.array([[1, 0.0], [0.5, 0.08], [0.0, -0.05]])\n",
    "    q = np.array([[0.0, 0.1], [0.4, 0.2], [1, 0.0]])\n",
    "    \n",
    "    # weights\n",
    "    zp = np.array([1, 1, 1, 1])\n",
    "    zq = np.array([1, 1, 1, 1])\n",
    "    \n",
    "    # calculate degree\n",
    "    # n and p are the order of p and q respectively\n",
    "    n = np.float(p.shape[0])\n",
    "    m = np.float(q.shape[0])\n",
    "    \n",
    "    # calculate connection point\n",
    "    q_start = p_end = (n / (n + m)) * p[-1,:] + (m / (n + m)) * q[0,:]\n",
    "    \n",
    "    # and add to control points\n",
    "    pp = np.vstack([p, p_end])\n",
    "    qq = np.vstack([q_start, q])\n",
    "    \n",
    "    # calculate two curves \n",
    "    lower = rational_bezier(pp, zp)\n",
    "    upper = rational_bezier(qq, zq)\n",
    "    \n",
    "    # and join together (removing repeat point at leading edge):\n",
    "    points = np.concatenate([lower,upper[1:]])\n",
    "\n",
    "    return points"
   ]
  },
  {
   "cell_type": "markdown",
   "metadata": {
    "nbgrader": {
     "grade": false,
     "locked": false,
     "solution": false
    }
   },
   "source": [
    "Check that your function works:"
   ]
  },
  {
   "cell_type": "code",
   "execution_count": 6,
   "metadata": {
    "collapsed": false
   },
   "outputs": [
    {
     "data": {
      "image/png": "[encoded data removed]",
      "text/plain": [
       "<matplotlib.figure.Figure at 0x238cf3b5320>"
      ]
     },
     "metadata": {},
     "output_type": "display_data"
    }
   ],
   "source": [
    "points = bezier_spline_aerofoil()"
   ]
  },
  {
   "cell_type": "markdown",
   "metadata": {
    "nbgrader": {
     "grade": false,
     "locked": false,
     "solution": false
    }
   },
   "source": [
    "It should return 201 points, start at the trailing edge $l^{(0)}$, pass through the leading edge $l^{(3)}=u^{(0)}$, and end at the trailing edge $u^{(3)}$:"
   ]
  },
  {
   "cell_type": "code",
   "execution_count": 5,
   "metadata": {
    "collapsed": false
   },
   "outputs": [
    {
     "name": "stdout",
     "output_type": "stream",
     "text": [
      "201\n",
      "[ 1.  0.]\n",
      "[ 0.     0.025]\n",
      "[ 1.  0.]\n"
     ]
    }
   ],
   "source": [
    "print(len(points))\n",
    "print(points[0, :])\n",
    "print(points[100, :])\n",
    "print(points[-1, :])"
   ]
  },
  {
   "cell_type": "markdown",
   "metadata": {
    "nbgrader": {
     "grade": false,
     "locked": false,
     "solution": false
    }
   },
   "source": [
    "The tests below will be used to grade your submission automatically."
   ]
  },
  {
   "cell_type": "code",
   "execution_count": 6,
   "metadata": {
    "collapsed": false,
    "deletable": false,
    "nbgrader": {
     "checksum": "264a698c392527760723854da42e5e95",
     "grade": true,
     "grade_id": "aerofoil_check",
     "locked": true,
     "points": 1,
     "solution": false
    }
   },
   "outputs": [
    {
     "data": {
      "text/plain": [
       "<matplotlib.figure.Figure at 0x283bfbc6c88>"
      ]
     },
     "metadata": {},
     "output_type": "display_data"
    }
   ],
   "source": [
    "\"\"\"Check that bezier returns the correct output for several inputs\"\"\"\n",
    "points = bezier_spline_aerofoil()\n",
    "assert len(points) == 201\n",
    "assert np.allclose(points[0,:], [1.0, 0.0], 0.0001)\n",
    "assert np.allclose(points[-1,:], [1.0, 0.0], 0.0001)\n",
    "assert np.allclose(points[100,:], [0.0, 0.025], 0.0001)\n",
    "assert np.allclose(points[65,:], [ 0.1623125,   0.00379437], 0.0001)\n",
    "pl.clf()"
   ]
  },
  {
   "cell_type": "markdown",
   "metadata": {
    "nbgrader": {
     "grade": false,
     "locked": false,
     "solution": false
    }
   },
   "source": [
    "## Task 2: simulate the lift of your aerofoil\n",
    "In this task you will simulate the lift of your aerofoil using a simple panel code <code>vortex_panel</code>, which is provided in <code>aclabtools</code>:"
   ]
  },
  {
   "cell_type": "code",
   "execution_count": 7,
   "metadata": {
    "collapsed": true,
    "nbgrader": {
     "grade": false,
     "locked": false,
     "solution": false
    }
   },
   "outputs": [],
   "source": [
    "from aclabtools import vortex_panel"
   ]
  },
  {
   "cell_type": "markdown",
   "metadata": {
    "nbgrader": {
     "grade": false,
     "locked": false,
     "solution": false
    }
   },
   "source": [
    "This function takes three arguments: an array of points along the surface of the aerofoil (formatted the same as the output from <code>bezier_spline_aerofoil</code>), the angle of attack of the aerofoil in degrees, and 1 or 0 depending on if you want the function to plot the pressure over the aerofoil. The function has three outputs: the lift coefficent, the pressure coefficient over the surface, and the coordinates of the panel elements where this pressure is calculated. Test it out for your aerofoil:"
   ]
  },
  {
   "cell_type": "code",
   "execution_count": 8,
   "metadata": {
    "collapsed": false
   },
   "outputs": [
    {
     "name": "stdout",
     "output_type": "stream",
     "text": [
      "1.45155264515\n"
     ]
    },
    {
     "data": {
      "image/png": "[encoded data removed]",
      "text/plain": [
       "<matplotlib.figure.Figure at 0x283bfba7588>"
      ]
     },
     "metadata": {},
     "output_type": "display_data"
    }
   ],
   "source": [
    "[cl, cp, xc]=vortex_panel(points, 5.0, 1)\n",
    "print(cl)"
   ]
  },
  {
   "cell_type": "code",
   "execution_count": 9,
   "metadata": {
    "collapsed": false
   },
   "outputs": [
    {
     "data": {
      "text/plain": [
       "1.451552645154069"
      ]
     },
     "execution_count": 9,
     "metadata": {},
     "output_type": "execute_result"
    }
   ],
   "source": [
    "vortex_panel(points, 5.0, 0)[0]"
   ]
  },
  {
   "cell_type": "markdown",
   "metadata": {
    "nbgrader": {
     "grade": false,
     "locked": false,
     "solution": false
    }
   },
   "source": [
    "For attached flow, i.e. when the aerofoil has not stalled, the lift should vary linearly with angle of attack. The function you are using is a 'potential flow' model that cannot predict separation, so we expect the $C_L/\\alpha$ trend to be linear for all angles. Complete the function below to calculate the lift coefficent for <code>n_alpha</code> angle of atttack values in a range from <code>alpha_min</code> to <code>alpha_max</code>. The function should also plot a 1$^{\\mathrm{st}}$ order (linear) polynomial fit to these data (use numpy's <code>polyfit</code> and <code>poly1d</code>):"
   ]
  },
  {
   "cell_type": "code",
   "execution_count": 10,
   "metadata": {
    "collapsed": false,
    "deletable": false,
    "nbgrader": {
     "checksum": "ae30280fed3622c8f81e43ef7f7eb1b3",
     "grade": false,
     "grade_id": "alpha_sweep_code",
     "locked": false,
     "solution": true
    }
   },
   "outputs": [],
   "source": [
    "def alpha_sweep(points, alpha_min, alpha_max, n_alpha):\n",
    "    \n",
    "    alpha = np.linspace(alpha_min, alpha_max, n_alpha)\n",
    "    \n",
    "    cl = []\n",
    "    cl_lin = np.zeros(n_alpha)\n",
    "    # YOUR CODE HERE\n",
    "    for a in alpha:\n",
    "        cl.append(vortex_panel(points, a, 0)[0])\n",
    "    cl_lin_eq = np.poly1d(np.polyfit(alpha, cl, 1))\n",
    "    cl_lin = cl_lin_eq(alpha)\n",
    "    \n",
    "    # plot results\n",
    "    pl.plot(alpha, cl_lin, 'r') #cl_lin is your 1st order polynomial prediction\n",
    "    pl.plot(alpha, cl, 'ko')\n",
    "    pl.xlabel(r'$\\alpha$')\n",
    "    pl.ylabel(r'$C_L$')\n",
    "    return cl\n",
    "    "
   ]
  },
  {
   "cell_type": "markdown",
   "metadata": {
    "nbgrader": {
     "grade": false,
     "locked": false,
     "solution": false
    }
   },
   "source": [
    "Test it out:"
   ]
  },
  {
   "cell_type": "code",
   "execution_count": null,
   "metadata": {
    "collapsed": false
   },
   "outputs": [
    {
     "name": "stdout",
     "output_type": "stream",
     "text": [
      "[0.6543828360472328, 1.0654421957947788, 1.4515526451540688, 1.7935697812190017, 2.0738090349150529]\n"
     ]
    },
    {
     "data": {
      "image/png": "[encoded data removed]",
      "text/plain": [
       "<matplotlib.figure.Figure at 0x283bfd68ba8>"
      ]
     },
     "metadata": {},
     "output_type": "display_data"
    }
   ],
   "source": [
    "cl = alpha_sweep(points, -2, 12, 5)\n",
    "print(cl)"
   ]
  },
  {
   "cell_type": "code",
   "execution_count": null,
   "metadata": {
    "collapsed": false,
    "deletable": false,
    "nbgrader": {
     "checksum": "9d8a391d44302def8ecc287ebc04d39d",
     "grade": true,
     "grade_id": "alpha_sweep_check",
     "locked": true,
     "points": 1,
     "solution": false
    }
   },
   "outputs": [],
   "source": [
    "\"\"\"Check that alpha_sweep returns the correct output\"\"\"\n",
    "points = bezier_spline_aerofoil()\n",
    "test_cl = ([ 0.65438284,  0.83888985,  1.02064066,  1.19788609,  1.36890517,  1.53201694, 1.68559202,  1.82806378,  1.95793918,  2.07380903])\n",
    "cl = alpha_sweep(points,-2, 12, 10)\n",
    "assert np.allclose(test_cl, cl, 0.0001)\n",
    "pl.clf()"
   ]
  },
  {
   "cell_type": "markdown",
   "metadata": {
    "nbgrader": {
     "grade": false,
     "locked": false,
     "solution": false
    }
   },
   "source": [
    "Restart the kernel and run all (click \"Kernel\", \"Restart & Run All\"), to make sure everything is working before submitting this .ipynb file via Blackboard. "
   ]
  }
 ],
 "metadata": {
  "anaconda-cloud": {},
  "kernelspec": {
   "display_name": "Python [Root]",
   "language": "python",
   "name": "Python [Root]"
  },
  "language_info": {
   "codemirror_mode": {
    "name": "ipython",
    "version": 3
   },
   "file_extension": ".py",
   "mimetype": "text/x-python",
   "name": "python",
   "nbconvert_exporter": "python",
   "pygments_lexer": "ipython3",
   "version": "3.6.0"
  }
 },
 "nbformat": 4,
 "nbformat_minor": 1
}
