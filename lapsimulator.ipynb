{
 "cells": [
  {
   "cell_type": "markdown",
   "metadata": {},
   "source": [
    "# Highfield Street Circuit lap time simulation\n",
    "This Jupyter notebook shows you how to use the function <code>simulator([cl, cd],plotting)</code> to simulate the lap time of a car with a given $C_LA$ and $C_DA$ (in the array <code>[clA, cdA]</code> - these are the lift and drag coefficient multiplied by the reference area or, more simply, the lift and drag divided by the dynamic pressure) around the Highfield Street Circuit. A speed vs. time plot can be produced by setting <code>plotting = 1</code>."
   ]
  },
  {
   "cell_type": "markdown",
   "metadata": {},
   "source": [
    "First we use the command below so that plots appear inline with the Notebook:"
   ]
  },
  {
   "cell_type": "code",
   "execution_count": null,
   "metadata": {},
   "outputs": [],
   "source": [
    "%matplotlib inline"
   ]
  },
  {
   "cell_type": "markdown",
   "metadata": {},
   "source": [
    "Now import the <code>simulator</code> function from the <code>lapsim</code> module (You need to download <code>lapsim.pyc</code> from Blackboard):"
   ]
  },
  {
   "cell_type": "code",
   "execution_count": null,
   "metadata": {
    "collapsed": true
   },
   "outputs": [],
   "source": [
    "from lapsim import simulator"
   ]
  },
  {
   "cell_type": "markdown",
   "metadata": {},
   "source": [
    "You'll need to estimate the lift and drag coefficent of your race-car wing, e.g. using SolidWorks or wind tunnel data. Here we'll try out the simulator using $C_LA=1.2$ and $C_DA=0.5$. We'll also set the plotting input argument to 1, so that we get the plot: "
   ]
  },
  {
   "cell_type": "code",
   "execution_count": null,
   "metadata": {},
   "outputs": [],
   "source": [
    "clA = 1.2\n",
    "cdA = 0.1\n",
    "simulator([clA, cdA], 1)"
   ]
  },
  {
   "cell_type": "markdown",
   "metadata": {},
   "source": [
    "Try changing the values of $C_LA$ and $C_DA$. Note how a low $C_D$ means that the car accelerates more quickly and has a higher potential top speed, but that a high $C_LA$ is needed to give grip and higher speed round the corners."
   ]
  },
  {
   "cell_type": "markdown",
   "metadata": {},
   "source": [
    "## Surface plot of lap time\n",
    "Rather than trial and error to see which values of $C_LA$ and $C_DA$ give the best lap time, we could plot out the lap time for a range of values. We'll need to first create an array of $C_LA$ and $C_DA$ values:"
   ]
  },
  {
   "cell_type": "code",
   "execution_count": null,
   "metadata": {
    "collapsed": true
   },
   "outputs": [],
   "source": [
    "import numpy as np\n",
    "res = 11 #resolution of plot we'll produce (11x11)\n",
    "clA = np.linspace(0, 1.0, res)\n",
    "cdA = np.linspace(0.1, 0.5, res)"
   ]
  },
  {
   "cell_type": "markdown",
   "metadata": {},
   "source": [
    "and then a matrix of lap times corresponding to all combinations of these values: "
   ]
  },
  {
   "cell_type": "code",
   "execution_count": null,
   "metadata": {
    "collapsed": true
   },
   "outputs": [],
   "source": [
    "time = np.zeros([res,res])\n",
    "for i in range(0,res):\n",
    "    for j in range(0,res):\n",
    "        time[i, j] = simulator([clA[j], cdA[i]], 0)"
   ]
  },
  {
   "cell_type": "markdown",
   "metadata": {},
   "source": [
    "For a surface plot, we actually need matrices of $C_LA$ and $C_DA$ values corresponding the the time values. This can be created using Numpy's <code>meshgrid</code> function:"
   ]
  },
  {
   "cell_type": "code",
   "execution_count": null,
   "metadata": {
    "collapsed": true
   },
   "outputs": [],
   "source": [
    "CLA, CDA = np.meshgrid(clA, cdA)"
   ]
  },
  {
   "cell_type": "markdown",
   "metadata": {},
   "source": [
    "The code below creates the surface plot."
   ]
  },
  {
   "cell_type": "code",
   "execution_count": null,
   "metadata": {},
   "outputs": [],
   "source": [
    "from matplotlib import cm\n",
    "import matplotlib.pyplot as plt\n",
    "from mpl_toolkits.mplot3d import Axes3D\n",
    "fig = plt.figure()\n",
    "ax = fig.gca(projection='3d')\n",
    "surf = ax.plot_surface(CLA, CDA, time, rstride=1, cstride=1, cmap=cm.coolwarm, linewidth=0, antialiased=False)\n",
    "ax.set_xlabel('$C_LA$')\n",
    "ax.set_ylabel('$C_DA$')\n",
    "ax.set_zlabel('lap time [sec]')\n",
    "plt.savefig('laptime.png')"
   ]
  },
  {
   "cell_type": "markdown",
   "metadata": {},
   "source": [
    "Now we can see roughly where the best lap time is: $C_DA$ needs to be as low as possible, while $C_LA$ should be around 0.7 to 0.9. It would be good to get a more accurate result though. We could zoom in on this region, or use an optimizer. "
   ]
  },
  {
   "cell_type": "markdown",
   "metadata": {},
   "source": [
    "## Optimization\n",
    "We'll first try optimizing a simple function, $\\sum_i^n x^2_i$, the code for which is below:"
   ]
  },
  {
   "cell_type": "code",
   "execution_count": null,
   "metadata": {},
   "outputs": [],
   "source": [
    "def squared(x):\n",
    "    y = np.sum(np.square(x))\n",
    "    return y"
   ]
  },
  {
   "cell_type": "markdown",
   "metadata": {},
   "source": [
    "Of course the minimum of this function is at $\\mathbf{x}=\\{0,0,...0\\}$. The vector $x$ could be of any length $n$. Below we'll try calling the function for $x = \\{0,0\\}$:"
   ]
  },
  {
   "cell_type": "code",
   "execution_count": null,
   "metadata": {},
   "outputs": [],
   "source": [
    "x=np.array([0.0, 0.0])\n",
    "squared(x)"
   ]
  },
  {
   "cell_type": "markdown",
   "metadata": {},
   "source": [
    "We should be able to find this result using an optimzer. We'll use Scipy.optimize's <code>minimize</code> function, and in particular the 'BFGS' optimizer. We pass to this optimizer the name of our funtion (<code>squared</code>) and a start point $x^{(0)} = \\{2,2\\}$:"
   ]
  },
  {
   "cell_type": "code",
   "execution_count": null,
   "metadata": {},
   "outputs": [],
   "source": [
    "from scipy.optimize import minimize\n",
    "x0 = np.array([2.0, 2.0])\n",
    "opt_out=minimize(squared,x0,method='BFGS')\n",
    "print(opt_out)"
   ]
  },
  {
   "cell_type": "markdown",
   "metadata": {},
   "source": [
    "The optimizer has found the minimum succesfully, with <code>opt_out.x</code> and <code>opt_out.fun</code> both very close to zeros.\n",
    "\n",
    "Let's make things a bit more complicated by introducing bounds to out problem: $0<x_1<5$, $0.15<x_1<5$. We'll also assume that the function might have some 'noise' in the output, so we'll set the minimum finite difference for approximating the gradient in the function (<code>eps</code>) to be 0.001. For a bounded search we use the <code>L-BFGS-B</code> method:"
   ]
  },
  {
   "cell_type": "code",
   "execution_count": null,
   "metadata": {},
   "outputs": [],
   "source": [
    "limits=((0.0, 5.0),(0.15, 5.0))\n",
    "opt_out=minimize(squared,x0,method='L-BFGS-B', bounds = limits, options={'eps':0.001})\n",
    "print(opt_out)"
   ]
  },
  {
   "cell_type": "markdown",
   "metadata": {},
   "source": [
    "## Optimizing the lap time\n",
    "Based on what you've learnt from the above examples, find the optimium values for $C_LA$ and $C_DA$ to minimize the lap time. Clearly you can't make a wing with zero drag! Use limits of $0<C_LA<1.5$, $0.1<C_DA<0.5$ and again <code>'eps':0.01</code>. Because <code>simulator</code> has an extra argument (<code>plotting</code>), you'll need to include an extra argument when calling <code>minimize</code>. Use <code>args=([0])</code> (zero because you don't want to plot the lap time when running the optimizer). In the cell below replace \n",
    "\n",
    "<code># YOUR CODE HERE\n",
    "raise NotImplementedError()</code>\n",
    "\n",
    "with your own code."
   ]
  },
  {
   "cell_type": "code",
   "execution_count": null,
   "metadata": {
    "deletable": false,
    "nbgrader": {
     "checksum": "6cfd83739148c1826c173b9c6fb968c2",
     "grade": false,
     "grade_id": "optimize",
     "locked": false,
     "solution": true
    }
   },
   "outputs": [],
   "source": [
    "# YOUR CODE HERE\n",
    "raise NotImplementedError()"
   ]
  },
  {
   "cell_type": "markdown",
   "metadata": {},
   "source": [
    "Now run the lap time simulator, but this time plot the speed/time curve:"
   ]
  },
  {
   "cell_type": "code",
   "execution_count": null,
   "metadata": {},
   "outputs": [],
   "source": [
    "simulator(opt_out.x, 1)"
   ]
  },
  {
   "cell_type": "code",
   "execution_count": null,
   "metadata": {
    "collapsed": true,
    "deletable": false,
    "nbgrader": {
     "checksum": "a9f60f33966e100dcb96e954f5253a47",
     "grade": true,
     "grade_id": "optimizer_check",
     "locked": true,
     "points": 1,
     "solution": false
    }
   },
   "outputs": [],
   "source": [
    "\"\"\"Check that optimizer returns correct result\"\"\"\n",
    "assert np.allclose(opt_out.fun, 90.45, 0.01)"
   ]
  },
  {
   "cell_type": "markdown",
   "metadata": {
    "collapsed": true
   },
   "source": [
    "Restart the kernel and run all (click \"Kernel\", \"Restart & Run All\"), to make sure everything is working before submitting this .ipynb file via Blackboard."
   ]
  }
 ],
 "metadata": {
  "anaconda-cloud": {},
  "kernelspec": {
   "display_name": "Python 3",
   "language": "python",
   "name": "python3"
  },
  "language_info": {
   "codemirror_mode": {
    "name": "ipython",
    "version": 3
   },
   "file_extension": ".py",
   "mimetype": "text/x-python",
   "name": "python",
   "nbconvert_exporter": "python",
   "pygments_lexer": "ipython3",
   "version": "3.6.3"
  }
 },
 "nbformat": 4,
 "nbformat_minor": 1
}
