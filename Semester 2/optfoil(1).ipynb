{
 "cells": [
  {
   "cell_type": "markdown",
   "metadata": {},
   "source": [
    "# Parametric B&eacute;zier spline aerofoil design\n",
    "## Task 1: create a parametric B&eacute;zier spline aerofoil\n",
    "In this task you will write a function <code>parametric_aerofoil2(u2)</code> that creates a B&eacute;zier spline aerofoil and returns a $201\\times 2$ array <code>points</code> of $x,y$ points on the aerofoil from the trailing edge, along the lower surface, round the leading edge, and back along the upper surface to the trailing edge. It should also plot the aerofoil, control points and control polygon. This is similar to Lab 3 except now the aerofoil shape should be varied by changing paramter <code>u2</code>, which controls the $x-$location of the upper surface control point $u^{(2)}_x$. All control point weightings should be equal to 1 and all other control point location coordinates should be as per Lab 3.\n",
    "\n",
    "First you need to import relevant modules:"
   ]
  },
  {
   "cell_type": "code",
   "execution_count": null,
   "metadata": {
    "collapsed": true,
    "deletable": false,
    "nbgrader": {
     "checksum": "57dbd3da3c6640bdda8fefa41de40389",
     "grade": false,
     "grade_id": "1",
     "locked": true,
     "solution": false
    }
   },
   "outputs": [],
   "source": [
    "%matplotlib inline\n",
    "import numpy as np #for the maths\n",
    "import pylab as pl #for the plotting\n",
    "from aclabtools import *\n",
    "from aclab1 import * #binomial and Bezier functions"
   ]
  },
  {
   "cell_type": "code",
   "execution_count": null,
   "metadata": {
    "collapsed": true,
    "deletable": false,
    "nbgrader": {
     "checksum": "3855f6594a78c6b1ab17a476364482a1",
     "grade": false,
     "grade_id": "parametric_aerofoil2",
     "locked": false,
     "solution": true
    }
   },
   "outputs": [],
   "source": [
    "# YOUR CODE HERE\n",
    "raise NotImplementedError()"
   ]
  },
  {
   "cell_type": "markdown",
   "metadata": {
    "collapsed": true
   },
   "source": [
    "Check that your function works:"
   ]
  },
  {
   "cell_type": "code",
   "execution_count": null,
   "metadata": {},
   "outputs": [],
   "source": [
    "u2 = 0.1\n",
    "points = parametric_aerofoil2(u2)"
   ]
  },
  {
   "cell_type": "code",
   "execution_count": null,
   "metadata": {
    "deletable": false,
    "nbgrader": {
     "checksum": "dd55cf7ec07072cf00360d4db4fc4b0e",
     "grade": true,
     "grade_id": "parametric_aerofoil2_test",
     "locked": true,
     "points": 1,
     "solution": false
    }
   },
   "outputs": [],
   "source": [
    "\"\"\"parametric_aerofoil2\"\"\"\n",
    "assert np.allclose(parametric_aerofoil2(0.1)[26:29,1],[ 0.02710604,  0.02704144,  0.02691808], 0.01)"
   ]
  },
  {
   "cell_type": "markdown",
   "metadata": {},
   "source": [
    "## Task 2: find the angle of attack for a given lift coefficient\n",
    "You would like your race car wing to produce a specific lift, and find the design that minimises the drag for this lift. Create a function that finds the angle of attack of an aerofoil for a specified lift coefficient and $x-$location of the upper surface control point $u^{(2)}_x$. The third input to your function should be an initial guess of the angle of attack (in degrees). The output should be accurate to within $\\pm 0.025$. *Hint: the relationship between lift and angle of attack is approximately linear.*"
   ]
  },
  {
   "cell_type": "markdown",
   "metadata": {},
   "source": [
    "As in the labs, we'll be using vortex_panel to estimate the lift and pressure distribution of the aerofoil. Note that there is a NEW <code>vortex_panel</code> in the NEW <code>aclabtools.py</code> for this exercise. It has a few more putputs, which will be needed later. Make sure you import the correct version! Check it runs ok below:"
   ]
  },
  {
   "cell_type": "code",
   "execution_count": null,
   "metadata": {},
   "outputs": [],
   "source": [
    "[cl,cp,xc,yc,dy,ds,theta,vt] = vortex_panel(points, 0, 1)\n",
    "print(cl)"
   ]
  },
  {
   "cell_type": "code",
   "execution_count": null,
   "metadata": {
    "collapsed": true,
    "deletable": false,
    "nbgrader": {
     "checksum": "7f6819acf3bc55ee9cbdb9a4ab33f286",
     "grade": false,
     "grade_id": "find_alpha",
     "locked": false,
     "solution": true
    }
   },
   "outputs": [],
   "source": [
    "def find_alpha(target_cl, points, guess):\n",
    "    # YOUR CODE HERE\n",
    "    raise NotImplementedError()\n",
    "    return alpha, cl"
   ]
  },
  {
   "cell_type": "markdown",
   "metadata": {},
   "source": [
    "Try running the function for $u^{(2)}_x=0.5$, your optimized $C_L A$ value from <code>lapsimulator.ipynb</code> and a wing area of $0.9\\times0.4$. The lift of a 2D aerofoil is not the same as that for a 3D wing! Becasue a 3D wing has a fintie length, the lift is somewhat lower (depending on its length and shape). We'll simply assume $C_{L3D}$=$0.92 C_{L2D}$."
   ]
  },
  {
   "cell_type": "code",
   "execution_count": null,
   "metadata": {
    "deletable": false,
    "nbgrader": {
     "checksum": "41f047c1d0a4451716bb841d198a6c9e",
     "grade": false,
     "grade_id": "2",
     "locked": true,
     "solution": false
    }
   },
   "outputs": [],
   "source": [
    "target_cl  =(0.7746 / (0.9 * 0.4)) /0.92\n",
    "u2 = 0.5\n",
    "guess = 5\n",
    "points = parametric_aerofoil2(u2)\n",
    "[alpha, cl] = find_alpha(target_cl, points, guess)\n",
    "print(target_cl, alpha, cl)"
   ]
  },
  {
   "cell_type": "code",
   "execution_count": null,
   "metadata": {
    "deletable": false,
    "nbgrader": {
     "checksum": "ac1be35a11097162122acb14f5d76fb6",
     "grade": true,
     "grade_id": "find_alpha_test",
     "locked": true,
     "points": 1,
     "solution": false
    }
   },
   "outputs": [],
   "source": [
    "\"\"\"find_alpha\"\"\"\n",
    "assert np.allclose(find_alpha(target_cl, points, guess)[1],2.3388, 0.025)\n"
   ]
  },
  {
   "cell_type": "markdown",
   "metadata": {},
   "source": [
    "The resultant angle of attack is very high! The flow would have stalled well below this angle, however, your race-car wing will have multiple elemts to achieve this $C_L$. For the remainder of this single-element example, we'll assume a required $C_L$ of 1.4."
   ]
  },
  {
   "cell_type": "code",
   "execution_count": null,
   "metadata": {
    "deletable": false,
    "nbgrader": {
     "checksum": "502eeb0e3a101f9353772c7dfd39b28b",
     "grade": false,
     "grade_id": "3",
     "locked": true,
     "solution": false
    }
   },
   "outputs": [],
   "source": [
    "target_cl = 1.4\n",
    "u2 = 0.5\n",
    "guess = 5\n",
    "[alpha, cl] = find_alpha(target_cl, points, guess)\n",
    "print(alpha, cl)"
   ]
  },
  {
   "cell_type": "markdown",
   "metadata": {},
   "source": [
    "To minimize the drag, we'll need a way to simulate it! The function <code>viscous_solver(points,alpha,Re,nu,plotting)</code> is a quick-to-run simplified viscous boundary layer solver. It returns the lift and drag coefficients and pressure coefficient profile. The drag coefficient is not 'correct' (it underestimates) but takes into account the effects of the shape of the aerofoil and allows us to make comparisions between designs. The function is less accurate at high angles of attack where the flow separates (and gives a warning when separation is predicted). As for <code>vortex_panel</code>, the function requires a set of points along the surface of the aerofoil, the angle of attack and a 1 or 0 indicating whether you want outputs to be plotted. In addition, for the viscous calculation, the Reynolds number and kinematic viscosity are also required."
   ]
  },
  {
   "cell_type": "markdown",
   "metadata": {},
   "source": [
    "Lets assume a standard sea level kinematic visosity of air, a wing chord length of 0.4 m and a velocity of 20 m/s (that is, we'll design our aerofoil for just one velocity even though the car reaches many different speeds around the course). The drag calculation is then run as follows:"
   ]
  },
  {
   "cell_type": "code",
   "execution_count": null,
   "metadata": {
    "deletable": false,
    "nbgrader": {
     "checksum": "eb9de2d415bb8ef3cc548b9563b5f123",
     "grade": false,
     "grade_id": "4",
     "locked": true,
     "solution": false
    }
   },
   "outputs": [],
   "source": [
    "nu = 1.48e-5\n",
    "c = 0.4\n",
    "U = 20\n",
    "Re = U * c / nu\n",
    "print(Re)\n",
    "points = parametric_aerofoil2(u2)\n",
    "pl.clf()\n",
    "plotting = 1\n",
    "[cl,cd,cp] = viscous_solver(points, alpha, Re, nu, plotting)\n",
    "print(cl, cd)"
   ]
  },
  {
   "cell_type": "markdown",
   "metadata": {},
   "source": [
    "## Task 3: Invesitgate the effect of control point loaciton on aerofoil drag\n",
    "Write a function that returns the lift to drag ratio and drag of an aerofoil for a given $u^{(2)}_x$ location, target lift coefficent, speed, and aerofoil chord length. The function returns the lift to drag ratio to mitigate any errors in the <code>find_alpha</code> function output. Use a kinematic viscosity of $\\nu=1.48\\times10^{−5}$ m$^2$/s."
   ]
  },
  {
   "cell_type": "code",
   "execution_count": null,
   "metadata": {
    "collapsed": true,
    "deletable": false,
    "nbgrader": {
     "checksum": "3a8d0fac75b1ea0c94fb91c3904a3868",
     "grade": false,
     "grade_id": "drag",
     "locked": false,
     "points": 3,
     "solution": true
    }
   },
   "outputs": [],
   "source": [
    "def drag(u2, target_cl, U, c, plotting):\n",
    "    # YOUR CODE HERE\n",
    "    raise NotImplementedError()\n",
    "    return cl/cd, cd\n"
   ]
  },
  {
   "cell_type": "markdown",
   "metadata": {},
   "source": [
    "Try out your code:"
   ]
  },
  {
   "cell_type": "code",
   "execution_count": null,
   "metadata": {
    "deletable": false,
    "nbgrader": {
     "checksum": "fbc537c3584e5ecb1fc09e04f959c1a6",
     "grade": false,
     "grade_id": "5",
     "locked": true,
     "solution": false
    }
   },
   "outputs": [],
   "source": [
    "u2 = 0.5\n",
    "target_cl = 1.4\n",
    "U = 20\n",
    "c = 0.4\n",
    "plotting = 1\n",
    "[clcd, cd]=drag(u2, target_cl, U, c, plotting)\n",
    "print(clcd, cd)"
   ]
  },
  {
   "cell_type": "code",
   "execution_count": null,
   "metadata": {
    "deletable": false,
    "nbgrader": {
     "checksum": "20d7a05172dd8b80558ace7b0313197d",
     "grade": true,
     "grade_id": "drag_test",
     "locked": true,
     "points": 1,
     "solution": false
    }
   },
   "outputs": [],
   "source": [
    "\"\"\"Check drag\"\"\"\n",
    "assert np.allclose(drag(u2,target_cl,U,c,plotting)[0],164.538, 0.5)\n",
    "pl.clf()"
   ]
  },
  {
   "cell_type": "markdown",
   "metadata": {},
   "source": [
    "Using the same methods as in lab three, create an array of seven values for the location of $u^{(2)}_x$: 0, 0.1,...0.6, find the correspnding lift to drag ratios and fit a moving least squares curve. Use the same lift, speed and chord as before. Find the lift to drag ratio predicted by this curve at $u^{(2)}_x=0.2$. In the cell below complete the <code>paramter_sweep</code> function:"
   ]
  },
  {
   "cell_type": "code",
   "execution_count": null,
   "metadata": {
    "collapsed": true,
    "deletable": false,
    "nbgrader": {
     "checksum": "d818fd769f619a816269f8b132f67ecf",
     "grade": false,
     "grade_id": "parameter_sweep1",
     "locked": false,
     "solution": true
    }
   },
   "outputs": [],
   "source": [
    "def parameter_sweep(u2_array):\n",
    "    # YOUR CODE HERE\n",
    "    raise NotImplementedError()\n",
    "    return clcd_array"
   ]
  },
  {
   "cell_type": "markdown",
   "metadata": {},
   "source": [
    "Now run <code>paramter_sweep</code> and <code>mls_curve_fit</code> to find <code>pred_clcd</code> (the <code>mls_curve_fit</code> output at $u^{(2)}_x=0.2$):\n",
    "\n",
    "\n",
    "(You may get a warning message: \"The iteration is not making good progress...\" when running <code>mls_curve_fit</code> - don't worry about this!)"
   ]
  },
  {
   "cell_type": "code",
   "execution_count": null,
   "metadata": {
    "deletable": false,
    "nbgrader": {
     "checksum": "e2524b9ca8eae92aa771659c8eb126a1",
     "grade": false,
     "grade_id": "parameter_sweep2",
     "locked": false,
     "solution": true
    }
   },
   "outputs": [],
   "source": [
    "# YOUR CODE HERE\n",
    "raise NotImplementedError()"
   ]
  },
  {
   "cell_type": "markdown",
   "metadata": {},
   "source": [
    "Print your result:"
   ]
  },
  {
   "cell_type": "code",
   "execution_count": null,
   "metadata": {},
   "outputs": [],
   "source": [
    "print(pred_clcd)"
   ]
  },
  {
   "cell_type": "code",
   "execution_count": null,
   "metadata": {
    "collapsed": true,
    "deletable": false,
    "nbgrader": {
     "checksum": "897f382795565272f917d35db757b36a",
     "grade": true,
     "grade_id": "pred_clcd_test",
     "locked": true,
     "points": 1,
     "solution": false
    }
   },
   "outputs": [],
   "source": [
    "\"\"\"Check pred_clcd\"\"\"\n",
    "assert np.allclose(pred_clcd,172.18, 1)"
   ]
  },
  {
   "cell_type": "markdown",
   "metadata": {},
   "source": [
    "This assessed exercise is a hint of what you might do to find a good aerofoil shape for the elements of your race-car wing. The viscous solver is rather basic and will 'fall over' for some unusual geometries and extreme conditions. To further your 2D design you may wish to use find and use other tools such as Xfoil or Java foil, for example. You will then need to put the elements together and simulate your 3D wing in SolidWorks.\n",
    "\n",
    "Make sure you save this .ipynb (and make sure it runs) before you submit it!"
   ]
  }
 ],
 "metadata": {
  "anaconda-cloud": {},
  "kernelspec": {
   "display_name": "Python 3",
   "language": "python",
   "name": "python3"
  },
  "language_info": {
   "codemirror_mode": {
    "name": "ipython",
    "version": 3
   },
   "file_extension": ".py",
   "mimetype": "text/x-python",
   "name": "python",
   "nbconvert_exporter": "python",
   "pygments_lexer": "ipython3",
   "version": "3.6.3"
  }
 },
 "nbformat": 4,
 "nbformat_minor": 1
}
